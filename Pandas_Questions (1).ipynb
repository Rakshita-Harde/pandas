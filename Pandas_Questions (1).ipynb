{
 "cells": [
  {
   "cell_type": "markdown",
   "metadata": {
    "id": "RelLOkfZSqXL"
   },
   "source": [
    "**Q1. Describe how groupby().transform() differs from groupby().apply(). In what use case would transform() be preferred?**\n",
    "\n"
   ]
  },
  {
   "cell_type": "code",
   "execution_count": null,
   "metadata": {
    "id": "cTiugMYSSVg4"
   },
   "outputs": [],
   "source": [
    "groupby().transform(): Performs a group-wise calculation and returns a result with the same shape as the original data.\n",
    "\n",
    "groupby().apply(): Applies a custom function to each group and can return a result of any shape.\n",
    "\n",
    "transform() is preferred when you want to add a new column to the original DataFrame where each row gets a group-level value \n",
    "(like group mean, sum, etc.) while keeping the original shape.\n",
    "\n"
   ]
  },
  {
   "cell_type": "markdown",
   "metadata": {
    "id": "rx_Q_4PtTd7n"
   },
   "source": [
    "**Q2. What is the difference between .loc[], .iloc[], and .at[]? Provide a situation where .at[] performs better.**\n",
    "\n"
   ]
  },
  {
   "cell_type": "code",
   "execution_count": null,
   "metadata": {
    "id": "QwA8unAwToCl"
   },
   "outputs": [],
   "source": [
    " .loc[] = acces rows and columns by labels.\n",
    " .iloc[] = acces by position \n",
    ".at[] = similar to loc[] but for accesing a single value\n",
    "\n",
    "Provide a situation where .at[] performs better.\n",
    "- when we need to read or update only a single cell then we can use at[] , since it works on single cell it works faster than .loc[]"
   ]
  },
  {
   "cell_type": "markdown",
   "metadata": {
    "id": "ciOtvEzyToYi"
   },
   "source": [
    "**Q3.Group by 'city' and return a DataFrame showing the average, max, and number of sales entries for each city.**\n",
    "\n",
    "```\n",
    "df = pd.DataFrame({\n",
    "    'city': ['Pune', 'Mumbai', 'Delhi', 'Pune', 'Delhi', 'Pune'],\n",
    "    'sales': [200, 150, 400, 100, 300,250],\n",
    "    'month': ['Jan', 'Feb', 'Jan', 'Feb', 'Mar','Mar']\n",
    "})\n",
    "\n",
    "```\n"
   ]
  },
  {
   "cell_type": "code",
   "execution_count": 6,
   "metadata": {
    "id": "4liCzcPGUSDV"
   },
   "outputs": [
    {
     "name": "stdout",
     "output_type": "stream",
     "text": [
      "     city  sales month\n",
      "0    Pune    200   Jan\n",
      "1  Mumbai    150   Feb\n",
      "2   Delhi    400   Jan\n",
      "3    Pune    100   Feb\n",
      "4   Delhi    300   Mar\n",
      "5    Pune    250   Mar\n",
      "           Average  Maximum  Count\n",
      "city                              \n",
      "Delhi   350.000000      400      2\n",
      "Mumbai  150.000000      150      1\n",
      "Pune    183.333333      250      3\n"
     ]
    }
   ],
   "source": [
    "import pandas as pd\n",
    "df = pd.DataFrame({\n",
    "    'city': ['Pune', 'Mumbai', 'Delhi', 'Pune', 'Delhi', 'Pune'],\n",
    "    'sales': [200, 150, 400, 100, 300,250],\n",
    "    'month': ['Jan', 'Feb', 'Jan', 'Feb', 'Mar','Mar']\n",
    "})\n",
    "print(df)\n",
    "\n",
    "result = df.groupby('city')['sales'].agg(\n",
    "          Average='mean',\n",
    "          Maximum='max',\n",
    "          Count='count'\n",
    ")\n",
    "print(result)"
   ]
  },
  {
   "cell_type": "markdown",
   "metadata": {
    "id": "O1lxgtUpUQ4V"
   },
   "source": [
    "**Q4. Given,**\n",
    "\n",
    "```\n",
    "df = pd.DataFrame({\n",
    "    'student': ['Arya', 'Arya', 'Aniket', 'Aniket'],\n",
    "    'subject': ['Math', 'English', 'Math', 'English'],\n",
    "    'score': [85, 90, 78, 88]\n",
    "})\n",
    "\n",
    "```\n",
    "\n",
    "**Task A:**\n",
    "**Pivot this table so that each row is a student and each column is a subject.**\n",
    "\n",
    "**Task B:**\n",
    "**Melt the pivoted table back to the original long format.**"
   ]
  },
  {
   "cell_type": "code",
   "execution_count": 10,
   "metadata": {
    "id": "osD8VXjfVew-"
   },
   "outputs": [
    {
     "name": "stdout",
     "output_type": "stream",
     "text": [
      "  student  subject  score\n",
      "0    Arya     Math     85\n",
      "1    Arya  English     90\n",
      "2  Aniket     Math     78\n",
      "3  Aniket  English     88\n",
      "          score     \n",
      "subject English Math\n",
      "student             \n",
      "Aniket       88   78\n",
      "Arya         90   85\n"
     ]
    }
   ],
   "source": [
    "df = pd.DataFrame({\n",
    "    'student': ['Arya', 'Arya', 'Aniket', 'Aniket'],\n",
    "    'subject': ['Math', 'English', 'Math', 'English'],\n",
    "    'score': [85, 90, 78, 88]\n",
    "})\n",
    "print(df)\n",
    "\n",
    "r = df.pivot(index='student',columns ='subject')\n",
    "print(r)"
   ]
  },
  {
   "cell_type": "markdown",
   "metadata": {
    "id": "msBkq9wjVfJf"
   },
   "source": [
    "**Q5.Given**\n",
    "\n",
    "```\n",
    "df = pd.DataFrame({\n",
    "    'product': ['Apple', 'Banana', 'Cherry', 'Dragonfruit', 'Elderberry'],\n",
    "    'price': [100, 150, 200, 250, 300],\n",
    "    'stock': [0, 10, 5, 0, 20]\n",
    "})\n",
    "\n",
    "```\n",
    "**Task:**\n",
    "**Filter products where stock is greater than 0 and price is less than or equal to 200.**\n",
    "\n"
   ]
  },
  {
   "cell_type": "code",
   "execution_count": 18,
   "metadata": {
    "id": "VWuLHIMOd0mf"
   },
   "outputs": [
    {
     "name": "stdout",
     "output_type": "stream",
     "text": [
      "       product  price  stock\n",
      "0        Apple    100      0\n",
      "1       Banana    150     10\n",
      "2       Cherry    200      5\n",
      "3  Dragonfruit    250      0\n",
      "4   Elderberry    300     20\n",
      "  product  price  stock\n",
      "1  Banana    150     10\n",
      "2  Cherry    200      5\n"
     ]
    }
   ],
   "source": [
    "df = pd.DataFrame({\n",
    "    'product': ['Apple', 'Banana', 'Cherry', 'Dragonfruit', 'Elderberry'],\n",
    "    'price': [100, 150, 200, 250, 300],\n",
    "    'stock': [0, 10, 5, 0, 20]\n",
    "})\n",
    "print(df)\n",
    "\n",
    "a = df[(df['stock']> 0)&(df['price']<=200)]\n",
    "print(a)"
   ]
  },
  {
   "cell_type": "markdown",
   "metadata": {
    "id": "h0nIhU6Zd0G5"
   },
   "source": [
    "**Q6. Given:**\n",
    "```\n",
    "orders = pd.DataFrame({\n",
    "    'order_id': [1, 2, 3],\n",
    "    'customer_id': [100, 101, 102],\n",
    "    'amount': [250, 450, 300]\n",
    "})\n",
    "\n",
    "customers = pd.DataFrame({\n",
    "    'customer_id': [100, 101],\n",
    "    'name': ['Alice', 'Bob']\n",
    "})\n",
    "```\n",
    "\n",
    "**Task:**\n",
    "**Merge the two DataFrames to include all orders, even if the customer data is missing. Replace missing names with \"Unknown\".**\n",
    "\n"
   ]
  },
  {
   "cell_type": "code",
   "execution_count": 24,
   "metadata": {
    "id": "YlO70LeteL-0"
   },
   "outputs": [
    {
     "name": "stdout",
     "output_type": "stream",
     "text": [
      "   order_id  customer_id  amount   name\n",
      "0         1          100     250  Alice\n",
      "1         2          101     450    Bob\n"
     ]
    }
   ],
   "source": [
    "orders = pd.DataFrame({\n",
    "    'order_id': [1, 2, 3],\n",
    "    'customer_id': [100, 101, 102],\n",
    "    'amount': [250, 450, 300]\n",
    "})\n",
    "\n",
    "customers = pd.DataFrame({\n",
    "    'customer_id': [100, 101],\n",
    "    'name': ['Alice', 'Bob']\n",
    "})\n",
    "b = pd.merge(orders,customers)\n",
    "print(b)"
   ]
  },
  {
   "cell_type": "markdown",
   "metadata": {
    "id": "ktHE65T1eMqC"
   },
   "source": [
    "**Q7:Given**\n",
    "\n",
    "```\n",
    "df = pd.DataFrame({\n",
    "    'product': ['Apple', 'Banana', 'Cherry', 'Dragonfruit'],\n",
    "    'price': [100, 200, 150, 300],\n",
    "    'discount': [10, 0, 15, 20]\n",
    "})\n",
    "\n",
    "```\n",
    "\n",
    "**Create a new column 'final_price' that subtracts 'discount' from 'price' only if discount > 0, else keep the original price.**"
   ]
  },
  {
   "cell_type": "code",
   "execution_count": 50,
   "metadata": {
    "id": "k0VJjaRyejbz"
   },
   "outputs": [
    {
     "name": "stdout",
     "output_type": "stream",
     "text": [
      "       product  price  discount\n",
      "0        Apple    100        10\n",
      "1       Banana    200         0\n",
      "2       Cherry    150        15\n",
      "3  Dragonfruit    300        20\n",
      "       product  price  discount  final_price\n",
      "0        Apple    100        10           90\n",
      "1       Banana    200         0          200\n",
      "2       Cherry    150        15          135\n",
      "3  Dragonfruit    300        20          280\n"
     ]
    }
   ],
   "source": [
    "df = pd.DataFrame({\n",
    "    'product': ['Apple', 'Banana', 'Cherry', 'Dragonfruit'],\n",
    "    'price': [100, 200, 150, 300],\n",
    "    'discount': [10, 0, 15, 20]\n",
    "})\n",
    "print(df)\n",
    "df[\"final_price\"] = df.apply(\n",
    "    lambda row: row[\"price\"] - row[\"discount\"] if row[\"discount\"] > 0 else row[\"price\"], axis=1\n",
    ")\n",
    "print(df)"
   ]
  },
  {
   "cell_type": "markdown",
   "metadata": {
    "id": "41g8EOO1ekCO"
   },
   "source": [
    "**Q8. Explain the differences between .map(), .apply(), and .applymap() in Pandas.\n",
    "When would you use each? Give examples.**\n"
   ]
  },
  {
   "cell_type": "code",
   "execution_count": null,
   "metadata": {
    "id": "H12Zcl4me2a6"
   },
   "outputs": [],
   "source": []
  },
  {
   "cell_type": "markdown",
   "metadata": {
    "id": "dEOh31Fhe29U"
   },
   "source": [
    "**Q9.Given:**\n",
    "\n",
    "```\n",
    "df = pd.DataFrame({\n",
    "    'A': ['dog', 'cat', 'dog'],\n",
    "    'B': ['cat', 'cat', 'dog']\n",
    "})\n",
    "```\n",
    "\n",
    "**Get the frequency count of each unique value across all columns.**\n",
    "\n",
    "\n"
   ]
  },
  {
   "cell_type": "code",
   "execution_count": 62,
   "metadata": {
    "id": "npEHjUvvfBjo"
   },
   "outputs": [
    {
     "name": "stdout",
     "output_type": "stream",
     "text": [
      "0    dog\n",
      "1    cat\n",
      "2    dog\n",
      "0    cat\n",
      "1    cat\n",
      "2    dog\n",
      "dtype: object\n",
      "dog    3\n",
      "cat    3\n",
      "Name: count, dtype: int64\n"
     ]
    }
   ],
   "source": [
    "df = pd.DataFrame({\n",
    "    'A': ['dog', 'cat', 'dog'],\n",
    "    'B': ['cat', 'cat', 'dog']\n",
    "})\n",
    "c = pd.concat([df['A'],df['B']])\n",
    "print(c)\n",
    "d=c.value_counts()\n",
    "print(d)"
   ]
  },
  {
   "cell_type": "markdown",
   "metadata": {
    "id": "l47i3ZVQfIEb"
   },
   "source": [
    "**Q10: What is the difference between pivot() and pivot_table()?\n",
    "In what scenario will pivot() raise an error and how does pivot_table() handle it?**"
   ]
  },
  {
   "cell_type": "code",
   "execution_count": null,
   "metadata": {
    "id": "cLDthJ1GfRTv"
   },
   "outputs": [],
   "source": []
  }
 ],
 "metadata": {
  "colab": {
   "provenance": []
  },
  "kernelspec": {
   "display_name": "Python [conda env:base] *",
   "language": "python",
   "name": "conda-base-py"
  },
  "language_info": {
   "codemirror_mode": {
    "name": "ipython",
    "version": 3
   },
   "file_extension": ".py",
   "mimetype": "text/x-python",
   "name": "python",
   "nbconvert_exporter": "python",
   "pygments_lexer": "ipython3",
   "version": "3.12.7"
  }
 },
 "nbformat": 4,
 "nbformat_minor": 4
}
